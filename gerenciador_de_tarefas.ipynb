{
  "nbformat": 4,
  "nbformat_minor": 0,
  "metadata": {
    "colab": {
      "provenance": [],
      "authorship_tag": "ABX9TyPqzMfiYIXS2ZadjrcbDBzc",
      "include_colab_link": true
    },
    "kernelspec": {
      "name": "python3",
      "display_name": "Python 3"
    },
    "language_info": {
      "name": "python"
    }
  },
  "cells": [
    {
      "cell_type": "markdown",
      "metadata": {
        "id": "view-in-github",
        "colab_type": "text"
      },
      "source": [
        "<a href=\"https://colab.research.google.com/github/pxttiago/gerenciador-de-tarefas/blob/main/gerenciador_de_tarefas.ipynb\" target=\"_parent\"><img src=\"https://colab.research.google.com/assets/colab-badge.svg\" alt=\"Open In Colab\"/></a>"
      ]
    },
    {
      "cell_type": "code",
      "execution_count": null,
      "metadata": {
        "id": "3595Rh2Ey_NG"
      },
      "outputs": [],
      "source": [
        "class Tarefas:\n",
        "    def __init__(self):\n",
        "        self.tarefas = []\n",
        "\n",
        "    def adicionar_tarefa(self, tarefa, data_vencimento):\n",
        "        self.tarefas.append([tarefa, data_vencimento])\n",
        "\n",
        "    def editar_tarefa(self, tarefa_atual, tarefa_editada):\n",
        "        for tarefa in self.tarefas:\n",
        "            if tarefa[0] == tarefa_atual:\n",
        "                tarefa[0] = tarefa_editada\n",
        "\n",
        "    def editar_data(self, tarefa_atual, nova_data):\n",
        "        for tarefa in self.tarefas:\n",
        "            if tarefa[0] == tarefa_atual:\n",
        "                tarefa[1] = nova_data\n",
        "\n",
        "    def remover_tarefa(self, nome_tarefa):\n",
        "        for tarefa in self.tarefas:\n",
        "            if tarefa[0] == nome_tarefa:\n",
        "                self.tarefas.remove(tarefa)\n",
        "\n",
        "    def exibir_tarefas(self):\n",
        "        for tarefa in self.tarefas:\n",
        "            nome, data = tarefa\n",
        "            print(f'{nome} - Data de vencimento: {data}')"
      ]
    }
  ]
}